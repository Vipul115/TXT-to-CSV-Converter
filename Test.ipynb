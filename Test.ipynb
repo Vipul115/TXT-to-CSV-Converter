{
 "cells": [
  {
   "cell_type": "code",
   "execution_count": 6,
   "metadata": {},
   "outputs": [],
   "source": [
    "\n",
    "from os import listdir\n",
    "from os.path import isfile, join\n",
    "\n",
    "mypath = 'DataSet'\n",
    "f = 'GaCo01_01.txt'\n",
    "ff = join(mypath, f)\n",
    "file = open(ff)\n",
    "newFileName = \"../\" + \"tst\" + \".csv\"\n",
    "newFile = open(newFileName, 'w+')\n",
    "\n",
    "\n",
    "line = file.readline()\n",
    "while line:\n",
    "    \n",
    "    line2 = (line.replace('\\t', ','))\n",
    "    newFile.write(line2)\n",
    "    line = file.readline()\n",
    "\n",
    "\n",
    "newFile.close()"
   ]
  },
  {
   "cell_type": "code",
   "execution_count": null,
   "metadata": {
    "collapsed": true
   },
   "outputs": [],
   "source": []
  }
 ],
 "metadata": {
  "kernelspec": {
   "display_name": "Python 3",
   "language": "python",
   "name": "python3"
  },
  "language_info": {
   "codemirror_mode": {
    "name": "ipython",
    "version": 3
   },
   "file_extension": ".py",
   "mimetype": "text/x-python",
   "name": "python",
   "nbconvert_exporter": "python",
   "pygments_lexer": "ipython3",
   "version": "3.6.2"
  }
 },
 "nbformat": 4,
 "nbformat_minor": 2
}
